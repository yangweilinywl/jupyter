{
 "cells": [
  {
   "cell_type": "code",
   "execution_count": 1,
   "metadata": {},
   "outputs": [],
   "source": [
    "# 在python中，glob模块是用来查找匹配的文件的\n",
    "#     在查找的条件中，需要用到Unix shell中的匹配规则：\n",
    "#        *    :   匹配所所有\n",
    "#        ?    :   匹配一个字符\n",
    "#        *.*  :   匹配如：[hello.txt,cat.xls,xxx234s.doc]\n",
    "#        ?.*  :   匹配如：[1.txt,h.py]\n",
    "#        ?.gif:   匹配如：[x.gif,2.gif]\n",
    "#     如果没有匹配的，glob.glob(path)将返回一个空的list:[]\n",
    "\n",
    "\n",
    "# import glob  \n",
    "# def get_all():  \n",
    "#     '''''获取目录[F:\\\\wfpdm\\\\My_Proc_Data_ZXTZ]下面所有的文件'''  \n",
    "#     return glob.glob('F:\\\\wfpdm\\\\My_Proc_Data_ZXTZ\\\\*.*')  \n",
    "# def get_my_file():  \n",
    "#     '''''获取目录[F:\\\\wfpdm\\\\My_Proc_Data_ZXTZ]下面文件名为4个字符的文件'''  \n",
    "#     return glob.glob('F:\\\\wfpdm\\\\My_Proc_Data_ZXTZ\\\\????.txt')\n",
    "# def get_batch_file():  \n",
    "#     '''''获取目录[F:\\\\wfpdm\\\\My_Proc_Data_ZXTZ]下面扩展名为\\'.txt\\'的文件'''  \n",
    "#     return glob.glob('F:\\\\wfpdm\\\\My_Proc_Data_ZXTZ\\\\*.txt')  \n",
    "# def main():  \n",
    "#     print('获取目录[F:\\\\wfpdm\\\\My_Proc_Data_ZXTZ]下面所有的文件：')\n",
    "#     tem_files = get_all()  \n",
    "#     print(tem_files)  \n",
    "#     print('获取目录[F:\\\\wfpdm\\\\My_Proc_Data_ZXTZ]下面文件名为4个字符的文件：')  \n",
    "#     tem_files = get_my_file()  \n",
    "#     print(tem_files)  \n",
    "#     print('获取目录[F:\\\\wfpdm\\\\My_Proc_Data_ZXTZ]下面扩展名为\\'.txt\\'的文件：')  \n",
    "#     tem_files = get_batch_file()  \n",
    "#     print(tem_files)  \n",
    "# if __name__ == '__main__':  \n",
    "#     main()  "
   ]
  },
  {
   "cell_type": "code",
   "execution_count": 132,
   "metadata": {},
   "outputs": [
    {
     "name": "stderr",
     "output_type": "stream",
     "text": [
      "/home/mi/anaconda3/lib/python3.7/site-packages/ipykernel_launcher.py:26: ParserWarning: Falling back to the 'python' engine because the 'c' engine does not support skipfooter; you can avoid this warning by specifying engine='python'.\n",
      "/home/mi/anaconda3/lib/python3.7/site-packages/ipykernel_launcher.py:28: FutureWarning: Sorting because non-concatenation axis is not aligned. A future version\n",
      "of pandas will change to not sort by default.\n",
      "\n",
      "To accept the future behavior, pass 'sort=False'.\n",
      "\n",
      "To retain the current behavior and silence the warning, pass 'sort=True'.\n",
      "\n",
      "/home/mi/anaconda3/lib/python3.7/site-packages/ipykernel_launcher.py:33: FutureWarning: Sorting because non-concatenation axis is not aligned. A future version\n",
      "of pandas will change to not sort by default.\n",
      "\n",
      "To accept the future behavior, pass 'sort=False'.\n",
      "\n",
      "To retain the current behavior and silence the warning, pass 'sort=True'.\n",
      "\n"
     ]
    }
   ],
   "source": [
    "from os.path import exists, isdir, basename, join, splitext,split\n",
    "from glob import glob\n",
    "import pandas as pd\n",
    "EXTENSIONS = ['.csv']\n",
    "input_path = \"/home/mi/workspace/data/NationalData\"\n",
    "output_path = input_path+\"/result\"\n",
    "def get_categories(dir_path):\n",
    "    '''得到所有分类，文件夹名称'''\n",
    "    cat_paths = [files\n",
    "                 for files in glob(dir_path + \"/*\")\n",
    "                  if isdir(files)]\n",
    "    cat_paths.sort()\n",
    "    cats = [basename(cat_path) for cat_path in cat_paths if basename(cat_path)!=\"result\" ]\n",
    "    return cats\n",
    "\n",
    "def get_files(path, extensions=EXTENSIONS):\n",
    "    '''返回分类路径path下的所有视频文件名,list'''\n",
    "    all_files = []\n",
    "    all_files.extend([join(path, basename(fname)) for fname in glob(path + \"/*.*\") \n",
    "                      if splitext(fname)[1] in extensions])\n",
    "    return all_files\n",
    "\n",
    "def get_data(files):\n",
    "    df_list = []\n",
    "    df_list = [pd.read_csv(file,skiprows=2,skipfooter=1,skipinitialspace=True,encoding=\"gbk\")\n",
    "               for file in files if exists(file)]\n",
    "    df_list = [df.dropna(thresh=len(df)-1) for df in df_list]\n",
    "    return pd.concat(df_list,ignore_index=True)\n",
    "    \n",
    "def merge_data(path):\n",
    "    files = [file for file in glob(path+\"/*\")]\n",
    "    df_list = [pd.read_csv(file,sep='\\t') for file in files if basename(file)!=\"result\"]\n",
    "    res_df = pd.concat(df_list,ignore_index=True)\n",
    "    cols = list(res_df.columns)\n",
    "    cols.remove(\"category\")\n",
    "    cols.remove(\"index\")\n",
    "    res_df.loc[:,[\"category\",\"index\"]+cols].to_parquet(join(path,\"result\"))\n",
    "    \n",
    "if __name__==\"__main__\":\n",
    "    cats = get_categories(input_path)\n",
    "    for dir_name in cats:\n",
    "        all_files = get_files(join(input_path,dir_name))\n",
    "        df = get_data(all_files)\n",
    "        cols = df.columns\n",
    "        cols = [i.replace(\"年\",\"\").replace(\"月\",\"\") for i in cols]\n",
    "        cols = [i[:4]+\"0\"+i[4:] if i!=\"指标\" and int(i[4:])<10 else i for i in cols]\n",
    "        df.columns = cols\n",
    "        cols.remove(\"指标\")\n",
    "        cols.sort()\n",
    "        df[\"category\"] = dir_name\n",
    "        df[\"index\"] = df[\"指标\"]\n",
    "        df.drop(columns=\"指标\",inplace=True)\n",
    "        df = df.loc[:,[\"category\",\"index\"]+cols]\n",
    "        df.to_csv(join(output_path,dir_name)+\".csv\",sep='\\t',index=False)   \n",
    "    merge_data(output_path)"
   ]
  },
  {
   "cell_type": "code",
   "execution_count": 140,
   "metadata": {},
   "outputs": [],
   "source": [
    "df = pd.read_parquet(\"/home/mi/workspace/data/NationalData/result/result\")"
   ]
  },
  {
   "cell_type": "code",
   "execution_count": 141,
   "metadata": {},
   "outputs": [
    {
     "data": {
      "text/plain": [
       "2254"
      ]
     },
     "execution_count": 141,
     "metadata": {},
     "output_type": "execute_result"
    }
   ],
   "source": [
    "len(df)"
   ]
  },
  {
   "cell_type": "code",
   "execution_count": 131,
   "metadata": {},
   "outputs": [
    {
     "name": "stderr",
     "output_type": "stream",
     "text": [
      "/home/mi/anaconda3/lib/python3.7/site-packages/ipykernel_launcher.py:5: ParserWarning: Falling back to the 'python' engine because the 'c' engine does not support skipfooter; you can avoid this warning by specifying engine='python'.\n",
      "  \"\"\"\n"
     ]
    },
    {
     "name": "stdout",
     "output_type": "stream",
     "text": [
      "#######月度数据 (12).csv\n",
      "#######月度数据 (54).csv\n"
     ]
    }
   ],
   "source": [
    "import os\n",
    "path = \"/home/mi/workspace/data/NationalData/工业\"\n",
    "files = glob(path+\"/*.*\")\n",
    "for file in files:\n",
    "    df = pd.read_csv(file,skiprows=2,skipfooter=1,skipinitialspace=True,encoding=\"gbk\")\n",
    "    df = df.dropna(thresh=len(df)-1)\n",
    "    df[\"index\"] = df[\"指标\"]\n",
    "    df.drop(columns=\"指标\",inplace=True)\n",
    "#     print(df.columns)\n",
    "    val = df[\"index\"].isin([\"其他采矿业出口交货值当期值(亿元)\"]).any()\n",
    "    if val:\n",
    "        print(\"#######\"+os.path.basename(file))\n",
    "        \n",
    "#     if len(df.columns)==19:\n",
    "#         print(os.path.basename(file))"
   ]
  },
  {
   "cell_type": "code",
   "execution_count": 137,
   "metadata": {},
   "outputs": [],
   "source": [
    "df = pd.read_csv(\"/home/mi/workspace/data/NationalData/result/工业.csv\",sep='\\t')"
   ]
  },
  {
   "cell_type": "code",
   "execution_count": 139,
   "metadata": {},
   "outputs": [
    {
     "data": {
      "text/plain": [
       "False"
      ]
     },
     "execution_count": 139,
     "metadata": {},
     "output_type": "execute_result"
    }
   ],
   "source": [
    "df[\"index\"].isin([\"其他采矿业出口交货值当期值(亿元)\"]).any()"
   ]
  },
  {
   "cell_type": "code",
   "execution_count": null,
   "metadata": {},
   "outputs": [],
   "source": []
  }
 ],
 "metadata": {
  "kernelspec": {
   "display_name": "Python 3",
   "language": "python",
   "name": "python3"
  },
  "language_info": {
   "codemirror_mode": {
    "name": "ipython",
    "version": 3
   },
   "file_extension": ".py",
   "mimetype": "text/x-python",
   "name": "python",
   "nbconvert_exporter": "python",
   "pygments_lexer": "ipython3",
   "version": "3.7.3"
  }
 },
 "nbformat": 4,
 "nbformat_minor": 2
}
